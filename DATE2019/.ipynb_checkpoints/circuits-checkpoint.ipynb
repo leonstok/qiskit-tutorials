{
 "cells": [
  {
   "cell_type": "markdown",
   "metadata": {},
   "source": [
    "# Introduce Qiskit and demonstrate superpostion and entanglement"
   ]
  },
  {
   "cell_type": "code",
   "execution_count": 1,
   "metadata": {},
   "outputs": [],
   "source": [
    "import numpy as np\n",
    "from qiskit import QuantumCircuit, ClassicalRegister, QuantumRegister\n",
    "from qiskit import execute"
   ]
  },
  {
   "cell_type": "code",
   "execution_count": 15,
   "metadata": {},
   "outputs": [],
   "source": [
    "# Create a Quantum Register with 1 qubit.\n",
    "q = QuantumRegister(1, 'q')\n",
    "\n",
    "# Create a Quantum Circuit acting on the q register\n",
    "circ = QuantumCircuit(q)"
   ]
  },
  {
   "cell_type": "markdown",
   "metadata": {},
   "source": [
    "## Superposition principle\n",
    "In the following we apply Hadamard gate on qubit '0'. This operation takes the qubit \n",
    "\\begin{equation*}\n",
    "|0\\rangle \\rightarrow \\frac{|0\\rangle + |1\\rangle} {\\sqrt{2}}\n",
    "\\end{equation*}\n",
    "This leads to the qubit being in state '0' and '1' with probability $0.5$.\n"
   ]
  },
  {
   "cell_type": "code",
   "execution_count": 16,
   "metadata": {},
   "outputs": [
    {
     "data": {
      "text/plain": [
       "<qiskit.extensions.standard.h.HGate at 0x11d1e5630>"
      ]
     },
     "execution_count": 16,
     "metadata": {},
     "output_type": "execute_result"
    }
   ],
   "source": [
    "circ.h(q[0])"
   ]
  },
  {
   "cell_type": "code",
   "execution_count": 17,
   "metadata": {},
   "outputs": [
    {
     "data": {
      "text/html": [
       "<pre style=\"word-wrap: normal;white-space: pre;line-height: 15px;\">        ┌───┐\n",
       "q_0: |0>┤ H ├\n",
       "        └───┘</pre>"
      ],
      "text/plain": [
       "<qiskit.tools.visualization._text.TextDrawing at 0x11d1e5d30>"
      ]
     },
     "execution_count": 17,
     "metadata": {},
     "output_type": "execute_result"
    }
   ],
   "source": [
    "circ.draw()"
   ]
  },
  {
   "cell_type": "code",
   "execution_count": 18,
   "metadata": {},
   "outputs": [
    {
     "data": {
      "text/html": [
       "<pre style=\"word-wrap: normal;white-space: pre;line-height: 15px;\">        ┌───┐ ░ ┌─┐\n",
       "q_0: |0>┤ H ├─░─┤M├\n",
       "        └───┘ ░ └╥┘\n",
       " c_0: 0 ═════════╩═\n",
       "                   </pre>"
      ],
      "text/plain": [
       "<qiskit.tools.visualization._text.TextDrawing at 0x11d28ccc0>"
      ]
     },
     "execution_count": 18,
     "metadata": {},
     "output_type": "execute_result"
    }
   ],
   "source": [
    "c = ClassicalRegister(1,'c')\n",
    "meas = QuantumCircuit(q,c)\n",
    "meas.barrier(q)\n",
    "meas.measure(q,c)\n",
    "\n",
    "qc = circ + meas\n",
    "qc.draw()"
   ]
  },
  {
   "cell_type": "code",
   "execution_count": 19,
   "metadata": {},
   "outputs": [],
   "source": [
    "# Import Aer\n",
    "from qiskit import BasicAer\n",
    "\n",
    "# Use Aer's qasm_simulator\n",
    "backend_sim = BasicAer.get_backend('qasm_simulator')\n",
    "# Execute the circuit on the qasm simulator.\n",
    "# We've set the number of repeats of the circuit\n",
    "# to be 1024, which is the default.\n",
    "job_sim = execute(qc, backend_sim, shots=1024)\n",
    "\n",
    "# Grab the results from the job.\n",
    "result_sim = job_sim.result()"
   ]
  },
  {
   "cell_type": "code",
   "execution_count": 20,
   "metadata": {},
   "outputs": [
    {
     "name": "stdout",
     "output_type": "stream",
     "text": [
      "{'1': 528, '0': 496}\n"
     ]
    }
   ],
   "source": [
    "counts = result_sim.get_counts(qc)\n",
    "print(counts)"
   ]
  },
  {
   "cell_type": "code",
   "execution_count": 21,
   "metadata": {},
   "outputs": [
    {
     "data": {
      "image/png": "[encoded data removed]",
      "text/plain": [
       "<Figure size 504x360 with 1 Axes>"
      ]
     },
     "execution_count": 21,
     "metadata": {},
     "output_type": "execute_result"
    }
   ],
   "source": [
    "from qiskit.tools.visualization import plot_histogram\n",
    "plot_histogram(counts)"
   ]
  },
  {
   "cell_type": "markdown",
   "metadata": {},
   "source": [
    "## Entanglement\n",
    "Entanglement is an uniquely quantum phenomenon where qubits (anti-)correlated. In the following we will demonstrate simplest of entanglements, i.e. entanglement between two-qubits. These are referred to as Bell states."
   ]
  },
  {
   "cell_type": "code",
   "execution_count": null,
   "metadata": {},
   "outputs": [],
   "source": [
    "# Create a Quantum Register with 2 qubits.\n",
    "q = QuantumRegister(2, 'q')\n",
    "\n",
    "# Create a Quantum Circuit acting on the q register\n",
    "circ = QuantumCircuit(q)"
   ]
  },
  {
   "cell_type": "code",
   "execution_count": null,
   "metadata": {},
   "outputs": [],
   "source": []
  }
 ],
 "metadata": {
  "kernelspec": {
   "display_name": "Python (Qiskitenv)",
   "language": "python",
   "name": "qiskitenv"
  },
  "language_info": {
   "codemirror_mode": {
    "name": "ipython",
    "version": 3
   },
   "file_extension": ".py",
   "mimetype": "text/x-python",
   "name": "python",
   "nbconvert_exporter": "python",
   "pygments_lexer": "ipython3",
   "version": "3.6.0"
  }
 },
 "nbformat": 4,
 "nbformat_minor": 2
}
