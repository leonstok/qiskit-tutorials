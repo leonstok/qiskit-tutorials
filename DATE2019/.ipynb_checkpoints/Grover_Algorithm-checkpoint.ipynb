{
 "cells": [
  {
   "cell_type": "markdown",
   "metadata": {},
   "source": [
    "# Grover's algorithm"
   ]
  },
  {
   "cell_type": "code",
   "execution_count": 1,
   "metadata": {},
   "outputs": [],
   "source": [
    "import numpy as np\n",
    "from qiskit import QuantumCircuit, ClassicalRegister, QuantumRegister\n",
    "from qiskit import execute\n",
    "from qiskit import BasicAer\n",
    "from qiskit.tools.visualization import plot_histogram\n",
    "from qiskit import IBMQ\n",
    "from qiskit.providers.ibmq import least_busy\n",
    "from qiskit.tools.monitor import job_monitor\n",
    "\n",
    "IBMQ.load_accounts()\n",
    "backend = IBMQ.get_backend('ibmq_qasm_simulator', hub=None)\n",
    "shots = 1024           # Number of shots to run the program (experiment); maximum is 8192 shots.\n",
    "max_credits = 3        # Maximum number of credits to spend on executions. "
   ]
  },
  {
   "cell_type": "code",
   "execution_count": 2,
   "metadata": {},
   "outputs": [],
   "source": [
    "def Grover_N2_A00(qc):\n",
    "    qc.h(q[0])\n",
    "    qc.h(q[1])\n",
    "    qc.s(q[0])\n",
    "    qc.s(q[1])\n",
    "    qc.h(q[1])\n",
    "    qc.cx(q[0], q[1])\n",
    "    qc.h(q[1])\n",
    "    qc.s(q[0])\n",
    "    qc.s(q[1])\n",
    "    qc.h(q[0])\n",
    "    qc.h(q[1])\n",
    "    qc.x(q[0])\n",
    "    qc.x(q[1])\n",
    "    qc.h(q[1])\n",
    "    qc.cx(q[0], q[1])\n",
    "    qc.h(q[1])\n",
    "    qc.x(q[0])\n",
    "    qc.x(q[1])\n",
    "    qc.h(q[0])\n",
    "    qc.h(q[1])    \n",
    "    \n",
    "def Grover_N2_A01(qc):\n",
    "    qc.h(q[0])\n",
    "    qc.h(q[1])\n",
    "    qc.s(q[1])\n",
    "    qc.h(q[1])\n",
    "    qc.cx(q[0], q[1])\n",
    "    qc.h(q[1])\n",
    "    qc.s(q[1])\n",
    "    qc.h(q[0])\n",
    "    qc.h(q[1])\n",
    "    qc.x(q[0])\n",
    "    qc.x(q[1])\n",
    "    qc.h(q[1])\n",
    "    qc.cx(q[0],q[1])\n",
    "    qc.h(q[1])\n",
    "    qc.x(q[0])\n",
    "    qc.x(q[1])\n",
    "    qc.h(q[0])\n",
    "    qc.h(q[1])\n",
    "    qc.measure(q,c)"
   ]
  },
  {
   "cell_type": "code",
   "execution_count": 8,
   "metadata": {},
   "outputs": [
    {
     "data": {
      "text/html": [
       "<pre style=\"word-wrap: normal;white-space: pre;line-height: 15px;\">                       ┌───┐┌───┐     ┌───┐┌───┐┌───┐                         »\n",
       "q_0: |0>───────────────┤ H ├┤ S ├──■──┤ S ├┤ H ├┤ X ├─────────────────────────»\n",
       "        ┌───┐┌───┐┌───┐└───┘└───┘┌─┴─┐└───┘└───┘└───┘┌───┐┌───┐┌───┐┌───┐┌───┐»\n",
       "q_1: |0>┤ H ├┤ S ├┤ H ├──────────┤ X ├───────────────┤ H ├┤ S ├┤ H ├┤ X ├┤ H ├»\n",
       "        └───┘└───┘└───┘          └───┘               └───┘└───┘└───┘└───┘└───┘»\n",
       " c_0: 0 ══════════════════════════════════════════════════════════════════════»\n",
       "                                                                              »\n",
       " c_1: 0 ══════════════════════════════════════════════════════════════════════»\n",
       "                                                                              »\n",
       "«          ┌───┐┌───┐               \n",
       "«q_0: ──■──┤ X ├┤ H ├───────────────\n",
       "«     ┌─┴─┐└───┘└───┘┌───┐┌───┐┌───┐\n",
       "«q_1: ┤ X ├──────────┤ H ├┤ X ├┤ H ├\n",
       "«     └───┘          └───┘└───┘└───┘\n",
       "«c_0: ══════════════════════════════\n",
       "«                                   \n",
       "«c_1: ══════════════════════════════\n",
       "«                                   </pre>"
      ],
      "text/plain": [
       "<qiskit.tools.visualization._text.TextDrawing at 0x11ff1ccf8>"
      ]
     },
     "execution_count": 8,
     "metadata": {},
     "output_type": "execute_result"
    }
   ],
   "source": [
    "# Create a Quantum Register with 2 qubits.\n",
    "q = QuantumRegister(2, 'q')\n",
    "c = ClassicalRegister(2,'c')\n",
    "# Create a Quantum Circuit acting on the q register\n",
    "qc = QuantumCircuit(q,c)\n",
    "Grover_N2_A00(qc)\n",
    "qc.draw()"
   ]
  },
  {
   "cell_type": "code",
   "execution_count": 10,
   "metadata": {},
   "outputs": [],
   "source": [
    "job_hpc = execute(qc, backend=backend, shots=shots, max_credits=max_credits)\n",
    "result_hpc = job_hpc.result()"
   ]
  },
  {
   "cell_type": "code",
   "execution_count": 11,
   "metadata": {},
   "outputs": [
    {
     "data": {
      "image/png": "[encoded data removed]",
      "text/plain": [
       "<Figure size 504x360 with 1 Axes>"
      ]
     },
     "execution_count": 11,
     "metadata": {},
     "output_type": "execute_result"
    }
   ],
   "source": [
    "counts_hpc = result_hpc.get_counts(qc)\n",
    "plot_histogram(counts_hpc)"
   ]
  }
 ],
 "metadata": {
  "kernelspec": {
   "display_name": "Python (Qiskitenv)",
   "language": "python",
   "name": "qiskitenv"
  },
  "language_info": {
   "codemirror_mode": {
    "name": "ipython",
    "version": 3
   },
   "file_extension": ".py",
   "mimetype": "text/x-python",
   "name": "python",
   "nbconvert_exporter": "python",
   "pygments_lexer": "ipython3",
   "version": "3.6.0"
  }
 },
 "nbformat": 4,
 "nbformat_minor": 2
}
