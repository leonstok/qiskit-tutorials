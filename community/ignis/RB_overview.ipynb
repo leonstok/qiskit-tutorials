{
 "cells": [
  {
   "cell_type": "markdown",
   "metadata": {},
   "source": [
    "<img src=\"../../images/qiskit-heading.gif\" alt=\"Note: In order for images to show up in this jupyter notebook you need to select File => Trusted Notebook\" width=\"500 px\" align=\"left\">"
   ]
  },
  {
   "cell_type": "markdown",
   "metadata": {},
   "source": [
    "# Randomized Benchmarking Overview\n",
    "\n",
    "### Contributors\n",
    "\n",
    "Shelly Garion$^{1}$, Yael Ben-Haim$^{1}$ and David McKay$^{2}$\n",
    "\n",
    "1. IBM Research Haifa, Haifa University Campus, Mount Carmel Haifa, Israel\n",
    "2. IBM T.J. Watson Research Center, Yorktown Heights, NY, USA\n"
   ]
  },
  {
   "cell_type": "markdown",
   "metadata": {},
   "source": [
    "## Introduction\n",
    "\n",
    "One of the main challenges in building a quantum information processor is the non-scalability of completely\n",
    "characterizing the noise affecting a quantum system via process tomography. In addition, process tomography is sensitive to noise in the pre- and post rotation gates plus the measurements (SPAM errors). Gateset tomography can take these errors into account, but the scaling is even worse.  A complete characterization\n",
    "of the noise is useful because it allows for  the determination of good error-correction schemes, and thus\n",
    "the possibility of reliable transmission of quantum information.\n",
    "\n",
    "Since complete process tomography is infeasible for large systems, there is growing interest in scalable\n",
    "methods for partially characterizing the noise affecting a quantum system. A scalable (in the number $n$ of qubits comprising the system) and robust algorithm for benchmarking the full set of Clifford gates by a single parameter using randomization techniques was presented in [1]. The concept of using randomization methods for benchmarking quantum gates is commonly called **Randomized Benchmarking\n",
    "(RB)**.\n",
    "\n",
    "\n",
    "### References\n",
    "\n",
    "1. Easwar Magesan, J. M. Gambetta, and Joseph Emerson, *Robust randomized benchmarking of quantum processes*,\n",
    "https://arxiv.org/pdf/1009.3639\n",
    "\n",
    "2. Easwar Magesan, Jay M. Gambetta, and Joseph Emerson, *Characterizing Quantum Gates via Randomized Benchmarking*,\n",
    "https://arxiv.org/pdf/1109.6887\n",
    "\n",
    "3. A. D. C'orcoles, Jay M. Gambetta, Jerry M. Chow, John A. Smolin, Matthew Ware, J. D. Strand, B. L. T. Plourde, and M. Steffen, *Process verification of two-qubit quantum gates by randomized benchmarking*, https://arxiv.org/pdf/1210.7011\n",
    "\n",
    "4. Jay M. Gambetta, A. D. C´orcoles, S. T. Merkel, B. R. Johnson, John A. Smolin, Jerry M. Chow,\n",
    "Colm A. Ryan, Chad Rigetti, S. Poletto, Thomas A. Ohki, Mark B. Ketchen, and M. Steffen,\n",
    "*Characterization of addressability by simultaneous randomized benchmarking*, https://arxiv.org/pdf/1204.6308\n",
    "\n",
    "5. David C. McKay, Sarah Sheldon, John A. Smolin, Jerry M. Chow, and Jay M. Gambetta, *Three Qubit Randomized Benchmarking*, https://arxiv.org/pdf/1712.06550"
   ]
  },
  {
   "cell_type": "markdown",
   "metadata": {},
   "source": [
    "## The Randomized Benchmarking Protocol\n",
    "\n",
    "A RB protocol (see [1,2]) consists of the following steps:\n",
    "\n",
    "(We should first import the relevant qiskit classes for the demonstration)."
   ]
  },
  {
   "cell_type": "code",
   "execution_count": 1,
   "metadata": {},
   "outputs": [],
   "source": [
    "#Import general libraries (needed for functions)\n",
    "import numpy as np\n",
    "import matplotlib.pyplot as plt\n",
    "from IPython import display\n",
    "\n",
    "#Import Qiskit classes classes\n",
    "import qiskit\n",
    "from qiskit.providers.aer.noise import NoiseModel\n",
    "from qiskit.providers.aer.noise.errors.standard_errors import depolarizing_error, thermal_relaxation_error\n",
    "\n",
    "#Import the RB Functions\n",
    "import qiskit.ignis.verification.randomized_benchmarking as rb"
   ]
  },
  {
   "cell_type": "markdown",
   "metadata": {},
   "source": [
    "### Step 1: Generate RB sequences\n",
    "\n",
    "The RB sequences consist of random Clifford elements chosen uniformly from the Clifford group on $n$-qubits, \n",
    "including a computed reversal element,\n",
    "that should return the qubits to the initial state.\n",
    "\n",
    "More precisely, for each length $m$, we choose $K_m$ RB sequences. \n",
    "Each such sequence contains $m$ random elements $C_{i_j}$ chosen uniformly from the Clifford group on $n$-qubits, and the $m+1$ element is defined as follows: $C_{i_{m+1}} = (C_{i_1}\\cdot ... \\cdot C_{i_m})^{-1}$. It can be found efficiently by the Gottesmann-Knill theorem.\n",
    "\n",
    "For example, we generate below several sequences of 2-qubit Clifford circuits."
   ]
  },
  {
   "cell_type": "code",
   "execution_count": 2,
   "metadata": {},
   "outputs": [],
   "source": [
    "#Generate RB circuits (2Q RB)\n",
    "\n",
    "#number of qubits\n",
    "nQ=2 \n",
    "rb_opts = {}\n",
    "#Number of Cliffords in the sequence\n",
    "rb_opts['length_vector'] = [1, 10, 20, 50, 75, 100, 125, 150, 175]\n",
    "#Number of seeds (random sequences)\n",
    "rb_opts['nseeds'] = 5 \n",
    "#Default pattern\n",
    "rb_opts['rb_pattern'] = [[0,1]]\n",
    "\n",
    "rb_circs, xdata = rb.randomized_benchmarking_seq(**rb_opts)"
   ]
  },
  {
   "cell_type": "markdown",
   "metadata": {},
   "source": [
    "As an example, we print the circuit corresponding to the first RB sequence"
   ]
  },
  {
   "cell_type": "code",
   "execution_count": 3,
   "metadata": {},
   "outputs": [
    {
     "name": "stdout",
     "output_type": "stream",
     "text": [
      "                               ┌───┐┌───┐┌───┐ ░ ┌───┐┌─────┐┌───┐          ┌─┐»\n",
      "qr_0: |0>──────────────■───────┤ H ├┤ S ├┤ Y ├─░─┤ Y ├┤ Sdg ├┤ H ├───────■──┤M├»\n",
      "         ┌─────┐┌───┐┌─┴─┐┌───┐└───┘└───┘└───┘ ░ └───┘└─────┘└───┘┌───┐┌─┴─┐└╥┘»\n",
      "qr_1: |0>┤ Sdg ├┤ H ├┤ X ├┤ Y ├────────────────░──────────────────┤ Y ├┤ X ├─╫─»\n",
      "         └─────┘└───┘└───┘└───┘                ░                  └───┘└───┘ ║ »\n",
      " cr_0: 0 ════════════════════════════════════════════════════════════════════╩═»\n",
      "                                                                               »\n",
      " cr_1: 0 ══════════════════════════════════════════════════════════════════════»\n",
      "                                                                               »\n",
      "«                   \n",
      "«qr_0: ─────────────\n",
      "«      ┌───┐┌───┐┌─┐\n",
      "«qr_1: ┤ H ├┤ S ├┤M├\n",
      "«      └───┘└───┘└╥┘\n",
      "«cr_0: ═══════════╬═\n",
      "«                 ║ \n",
      "«cr_1: ═══════════╩═\n",
      "«                   \n"
     ]
    }
   ],
   "source": [
    "print(rb_circs[0][0])"
   ]
  },
  {
   "cell_type": "markdown",
   "metadata": {},
   "source": [
    "One can verify that the Unitary representing each RB circuit should be the identity (with a global phase). \n",
    "We simulate this using Aer unitary simulator."
   ]
  },
  {
   "cell_type": "code",
   "execution_count": 4,
   "metadata": {},
   "outputs": [],
   "source": [
    "# Create a new circuit without the measurement\n",
    "qc = qiskit.QuantumCircuit(*rb_circs[0][-1].qregs,*rb_circs[0][-1].cregs)\n",
    "for i in rb_circs[0][-1][0:-nQ]:\n",
    "    qc._attach(i)"
   ]
  },
  {
   "cell_type": "code",
   "execution_count": 5,
   "metadata": {},
   "outputs": [
    {
     "name": "stdout",
     "output_type": "stream",
     "text": [
      "[[-0.707+0.707j  0.   +0.j     0.   +0.j     0.   +0.j   ]\n",
      " [ 0.   +0.j    -0.707+0.707j  0.   -0.j     0.   +0.j   ]\n",
      " [ 0.   +0.j    -0.   +0.j    -0.707+0.707j  0.   +0.j   ]\n",
      " [ 0.   +0.j    -0.   +0.j     0.   +0.j    -0.707+0.707j]]\n"
     ]
    }
   ],
   "source": [
    "# The Unitary is an identity (with a global phase)\n",
    "backend = qiskit.Aer.get_backend('unitary_simulator')\n",
    "basis_gates = ['u1','u2','u3','cx'] # use U,CX for now\n",
    "basis_gates_str = ','.join(basis_gates)\n",
    "job = qiskit.execute(qc, backend=backend, basis_gates=basis_gates_str)\n",
    "print(np.around(job.result().get_unitary(),3))"
   ]
  },
  {
   "cell_type": "markdown",
   "metadata": {},
   "source": [
    "### Step 2: Execute the RB sequences (with some noise)\n",
    "\n",
    "We can execute the RB sequences either using Qiskit Aer Simulator (with some noise model) or using IBMQ provider, and obtain a list of results.\n",
    "\n",
    "By assumption each operation $C_{i_j}$ is allowed to have some error, represnted by $\\Lambda_{i_j,j}$, and each sequence can be modeled by the operation:\n",
    "$$\\textit{S}_{\\textbf{i}_\\textbf{m}} = \\bigcirc_{j=1}^{m+1} (\\Lambda_{i_j,j} \\circ C_{i_j})$$\n",
    "where ${\\textbf{i}_\\textbf{m}} = (i_1,...,i_m)$ and $i_{m+1}$ is uniquely determined by ${\\textbf{i}_\\textbf{m}}$."
   ]
  },
  {
   "cell_type": "code",
   "execution_count": 6,
   "metadata": {},
   "outputs": [],
   "source": [
    "# Run on a noisy simulator\n",
    "noise_model = NoiseModel()\n",
    "# Depolarizing_error\n",
    "dp = 0.002 \n",
    "noise_model.add_all_qubit_quantum_error(depolarizing_error(dp, 1), ['u1', 'u2', 'u3'])\n",
    "noise_model.add_all_qubit_quantum_error(depolarizing_error(dp, 2), 'cx')\n",
    "\n",
    "backend = qiskit.Aer.get_backend('qasm_simulator')"
   ]
  },
  {
   "cell_type": "markdown",
   "metadata": {},
   "source": [
    "### Step 3: Get statistics about the survival probabilities\n",
    "\n",
    "For each of the $K_m$ sequences the survival probability $Tr[E_\\psi \\textit{S}_{\\textbf{i}_\\textbf{m}}(\\rho_\\psi)]$\n",
    "is measured. \n",
    "Here $\\rho_\\psi$ is the initial state taking into account preparation errors and $E_\\psi$ is the\n",
    "POVM element that takes into account measurement errors.\n",
    "In the ideal (noise-free) case $\\rho_\\psi = E_\\psi = | \\psi {\\rangle} {\\langle} \\psi |$. \n",
    "\n",
    "In practice one can measure the probability to go back to the exact initial state, i.e. all the qubits in the ground state $ {|} 00...0 {\\rangle}$ or just the probability for one of the qubits to return back to the ground state. Measuring the qubits independently can be more convenient if a correlated measurement scheme is not possible. Both measurements will fit to the same decay parameter according to the properties of the twirl. "
   ]
  },
  {
   "cell_type": "markdown",
   "metadata": {},
   "source": [
    "### Step 4: Find the averaged sequence fidelity\n",
    "\n",
    "Average over the $K_m$ random realizations of the sequence to find the averaged sequence **fidelity**,\n",
    "$$F_{seq}(m,|\\psi{\\rangle}) = Tr[E_\\psi \\textit{S}_{K_m}(\\rho_\\psi)]$$\n",
    "where \n",
    "$$\\textit{S}_{K_m} = \\frac{1}{K_m} \\sum_{\\textbf{i}_\\textbf{m}} \\textit{S}_{\\textbf{i}_\\textbf{m}}$$\n",
    "is the average sequence operation."
   ]
  },
  {
   "cell_type": "markdown",
   "metadata": {},
   "source": [
    "### Step 5: Fit the results\n",
    "\n",
    "Repeat Steps 1 through 4 for different values of $m$ and fit the results for the averaged sequence fidelity to the model:\n",
    "$$ \\textit{F}_{seq}^{(0)} \\big(m,{|}\\psi {\\rangle} \\big) = A_0 \\alpha^m +B_0$$\n",
    "where $A_0$ and $B_0$ absorb state preparation and measurement errors as well as an edge effect from the\n",
    "error on the final gate.\n",
    "\n",
    "$\\alpha$ determines the average error-rate $r$, which is also called **Error per Clifford (EPC)** \n",
    "according to the relation $$ r = 1-\\alpha-\\frac{1-\\alpha}{2^n} = \\frac{2^n-1}{2^n}(1-\\alpha)$$\n",
    "(where $n=nQ$ is the number of qubits).\n",
    "\n",
    "As an example, we calculate the average sequence fidelity for each of the RB sequences, fit the results to the exponential curve, and compute the paraemters $\\alpha$ and EPC."
   ]
  },
  {
   "cell_type": "code",
   "execution_count": 7,
   "metadata": {},
   "outputs": [
    {
     "name": "stdout",
     "output_type": "stream",
     "text": [
      "After seed 0, alpha: 0.984443, EPC: 0.011668\n",
      "After seed 1, alpha: 0.984050, EPC: 0.011962\n",
      "After seed 2, alpha: 0.984245, EPC: 0.011816\n",
      "After seed 3, alpha: 0.984849, EPC: 0.011363\n",
      "After seed 4, alpha: 0.985262, EPC: 0.011053\n"
     ]
    }
   ],
   "source": [
    "qobj_list = []\n",
    "# Create the RB fitter\n",
    "rb_fit = rb.RBFitter(None, xdata, rb_opts['rb_pattern'])\n",
    "for rb_seed,rb_circ_seed in enumerate(rb_circs):\n",
    "    qobj = qiskit.compile(rb_circ_seed,\n",
    "    backend=backend,\n",
    "    basis_gates=basis_gates_str)\n",
    "    job = backend.run(qobj, noise_model=noise_model)\n",
    "    qobj_list.append(qobj) \n",
    "\n",
    "    # Add data to the fitter\n",
    "    rb_fit.add_data(job.result())\n",
    "    print('After seed %d, alpha: %f, EPC: %f'%(rb_seed,rb_fit.fit[0]['params'][1], rb_fit.fit[0]['epc']))"
   ]
  },
  {
   "cell_type": "code",
   "execution_count": 8,
   "metadata": {},
   "outputs": [
    {
     "data": {
      "image/png": "[encoded data removed]",
      "text/plain": [
       "<matplotlib.figure.Figure at 0x7f0b24b55cc0>"
      ]
     },
     "metadata": {
      "needs_background": "light"
     },
     "output_type": "display_data"
    }
   ],
   "source": [
    "plt.figure(figsize=(8, 6))\n",
    "ax = plt.subplot(1, 1, 1)\n",
    "\n",
    "# Plot the essence by calling plot_rb_data\n",
    "rb_fit.plot_rb_data(0, ax=ax, add_label=True, show_plt=False)\n",
    "    \n",
    "# Add title and label\n",
    "ax.set_title('%d Qubit RB'%(nQ), fontsize=18)\n",
    "\n",
    "plt.show()"
   ]
  },
  {
   "cell_type": "markdown",
   "metadata": {},
   "source": [
    "### The intuition behind RB\n",
    "\n",
    "The depolarizing quantum channel has a parameter $\\alpha$, and works like this: with probability $\\alpha$, the state remains the same as before; with probability $1-\\alpha$, the state becomes the totally mixed state, namely:\n",
    "\n",
    "$$\\rho_f = \\alpha \\rho_i + \\frac{1-\\alpha}{2^n} * \\mathbf{I}$$\n",
    "\n",
    "Suppose that we have a sequence of $m$ gates, not necessarily Clifford gates, \n",
    "where the error channel of the gates is a depolarizing channel with parameter $\\alpha$ \n",
    "(same $\\alpha$ for all the gates). \n",
    "Then with probability $\\alpha^m$ the state is correct at the end of the sequence, \n",
    "and with probability $1-\\alpha^m$ it becomes the totally mixed state, therefore:\n",
    "\n",
    "$$\\rho_f^m = \\alpha^m \\rho_i + \\frac{1-\\alpha^m}{2^n} * \\mathbf{I}$$\n",
    "\n",
    "Now suppose that in addition we start with the ground state; \n",
    "that the entire sequence amounts to the identity; \n",
    "and that we measure the state at the end of the sequence with the standard basis. \n",
    "We derive that the probability of success at the end of the sequence is:\n",
    "\n",
    "$$\\alpha^m + \\frac{1-\\alpha^m}{2^n} = \\frac{2^n-1}{2^n}\\alpha^m + \\frac{1}{2^n} =  A_0\\alpha^m + B_0$$\n",
    "\n",
    "It follows that the probability of success, aka fidelity, decays exponentially with the sequence length, with exponent $\\alpha$.\n",
    "\n",
    "The last statement is not necessarily true when the channel is other than the depolarizing channel. However, it turns out that if the gates are uniformly-randomized Clifford gates, then the noise of each gate behaves on average as if it was the depolarizing channel, with some parameter that can be computed from the channel, and we obtain the exponential decay of the fidelity."
   ]
  },
  {
   "cell_type": "markdown",
   "metadata": {},
   "source": [
    "## Simultaneous Randomized Benchmarking\n",
    "\n",
    "\n",
    "RB is designed to address fidelities in multiqubit systems in two ways. For one, RB over the full $n$-qubit space\n",
    "can be performed by constructing sequences from the $n$-qubit Clifford group. Additionally, the $n$-qubit space\n",
    "can be subdivided into sets of qubits $\\{n_i\\}$ and $n_i$-qubit RB performed in each subset simultaneously [4]. \n",
    "Both methods give metrics of fidelity in the $n$-qubit space. \n",
    "\n",
    "For example, it is common to perform 2Q RB on the subset of two-qubits defining a CNOT gate while the other qubits are quiescent. As explained in [4], this RB data will not necessarily decay exponentially because the other qubit subspaces are not twirled. Subsets are more rigorously characterized by simultaneous RB, which also measures some level of crosstalk error since all qubits are active.\n",
    "\n",
    "An example of simultaneous RB (1Q RB and 2Q RB) can be found in: \n",
    "https://github.com/Qiskit/qiskit-tutorials/blob/master/qiskit/ignis/randomized_benchmarking.ipynb"
   ]
  },
  {
   "cell_type": "markdown",
   "metadata": {},
   "source": [
    "### Predicted Gate Fidelity\n",
    "\n",
    "If we know the errors on the underlying gates (the gateset) we can predict the fidelity. First we need to count the number of these gates per Clifford. \n",
    "\n",
    "Then, the two qubit Clifford gate error function gives the error per 2Q Clifford. It assumes that the error in the underlying gates is depolarizing. This function is derived in the supplement to https://arxiv.org/abs/1712.06550. "
   ]
  },
  {
   "cell_type": "code",
   "execution_count": 9,
   "metadata": {},
   "outputs": [
    {
     "name": "stdout",
     "output_type": "stream",
     "text": [
      "Number of u1 gates per Clifford: 1.498462\n",
      "Number of u2 gates per Clifford: 1.756923\n",
      "Number of u3 gates per Clifford: 0.513007\n",
      "Number of cx gates per Clifford: 1.518322\n"
     ]
    }
   ],
   "source": [
    "#Count the number of single and 2Q gates in the 2Q Cliffords\n",
    "gates_per_cliff = rb.rb_utils.gates_per_clifford(qobj_list,xdata[0],basis_gates,rb_opts['rb_pattern'][0])\n",
    "for i in range(len(basis_gates)):\n",
    "    print(\"Number of %s gates per Clifford: %f\"%(basis_gates[i],\n",
    "                                                 np.mean([gates_per_cliff[0][i],gates_per_cliff[0][i]])))"
   ]
  },
  {
   "cell_type": "code",
   "execution_count": 10,
   "metadata": {},
   "outputs": [
    {
     "name": "stdout",
     "output_type": "stream",
     "text": [
      "Predicted 2Q Error per Clifford: 8.943612e-03\n"
     ]
    }
   ],
   "source": [
    "# Prepare lists of the number of qubits and the errors\n",
    "ngates = np.zeros(7)\n",
    "ngates[0:3] = gates_per_cliff[0][0:3]\n",
    "ngates[3:6] = gates_per_cliff[1][0:3]\n",
    "ngates[6] = gates_per_cliff[0][3]\n",
    "gate_qubits = np.array([0,0,0,1,1,1,-1], dtype=int)\n",
    "gate_errs = np.zeros(len(gate_qubits))\n",
    "gate_errs[[1,4]] = dp/2 #convert from depolarizing error to epg (1Q)\n",
    "gate_errs[[2,5]] = 2*dp/2 #convert from depolarizing error to epg (1Q)\n",
    "gate_errs[6] = dp*3/4 #convert from depolarizing error to epg (2Q)\n",
    "\n",
    "#Calculate the predicted epc\n",
    "pred_epc = rb.rb_utils.twoQ_clifford_error(ngates,gate_qubits,gate_errs)\n",
    "print(\"Predicted 2Q Error per Clifford: %e\"%pred_epc)"
   ]
  },
  {
   "cell_type": "code",
   "execution_count": null,
   "metadata": {},
   "outputs": [],
   "source": []
  }
 ],
 "metadata": {
  "kernelspec": {
   "display_name": "Python 3",
   "language": "python",
   "name": "python3"
  },
  "language_info": {
   "codemirror_mode": {
    "name": "ipython",
    "version": 3
   },
   "file_extension": ".py",
   "mimetype": "text/x-python",
   "name": "python",
   "nbconvert_exporter": "python",
   "pygments_lexer": "ipython3",
   "version": "3.6.8"
  }
 },
 "nbformat": 4,
 "nbformat_minor": 2
}
